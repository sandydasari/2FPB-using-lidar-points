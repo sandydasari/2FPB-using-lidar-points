{
  "cells": [
    {
      "cell_type": "markdown",
      "source": [
        "# **CS 725 Project : Classification of Lidar Points using ML Algorithms**\n",
        "\n",
        "Models tested: \n",
        "\n",
        "*   SVM\n",
        "*   Decision Tree\n",
        "*   Random Forest\n",
        "*   Naive Bayes\n",
        "\n",
        "\n"
      ],
      "metadata": {
        "id": "NLtDm3vpd0qL"
      },
      "id": "NLtDm3vpd0qL"
    },
    {
      "cell_type": "markdown",
      "source": [
        "## Libraries"
      ],
      "metadata": {
        "id": "5wkndyTSbbrc"
      },
      "id": "5wkndyTSbbrc"
    },
    {
      "cell_type": "code",
      "execution_count": null,
      "id": "8f757169",
      "metadata": {
        "id": "8f757169"
      },
      "outputs": [],
      "source": [
        "import numpy as np\n",
        "import pandas as pd\n",
        "\n",
        "# Libraries for different classifiers\n",
        "from sklearn.svm import SVC\n",
        "from sklearn.tree import DecisionTreeClassifier\n",
        "from sklearn.ensemble import RandomForestClassifier\n",
        "from sklearn.naive_bayes import GaussianNB\n",
        "\n",
        "# Libraries for model evaluation\n",
        "from sklearn.model_selection import train_test_split\n",
        "from sklearn.metrics import accuracy_score, classification_report, confusion_matrix"
      ]
    },
    {
      "cell_type": "markdown",
      "source": [
        "## Loading Data"
      ],
      "metadata": {
        "id": "VjCGDr7vc-ln"
      },
      "id": "VjCGDr7vc-ln"
    },
    {
      "cell_type": "code",
      "source": [
        "# Mounting the drive\n",
        "\n",
        "# from google.colab import drive\n",
        "# drive.mount('/content/drive')"
      ],
      "metadata": {
        "colab": {
          "base_uri": "https://localhost:8080/"
        },
        "id": "5EdiyIJTTIGJ",
        "outputId": "0b6db98c-cbd0-46e3-a530-78461e3ab53e"
      },
      "id": "5EdiyIJTTIGJ",
      "execution_count": null,
      "outputs": [
        {
          "output_type": "stream",
          "name": "stdout",
          "text": [
            "Drive already mounted at /content/drive; to attempt to forcibly remount, call drive.mount(\"/content/drive\", force_remount=True).\n"
          ]
        }
      ]
    },
    {
      "cell_type": "code",
      "execution_count": null,
      "id": "e55fbb0b",
      "metadata": {
        "id": "e55fbb0b",
        "colab": {
          "base_uri": "https://localhost:8080/",
          "height": 206
        },
        "outputId": "3039bd78-a837-4cd5-fba9-54cb3522f9a0"
      },
      "outputs": [
        {
          "output_type": "execute_result",
          "data": {
            "text/plain": [
              "   Unnamed: 0       long         lat  elev  rt_num  class  intensity  \\\n",
              "0           0  83150.336  439662.362   313       1      1        141   \n",
              "1           1  83150.412  439662.657   -39       1      1        126   \n",
              "2           2  83150.429  439662.496  -883       2      1         13   \n",
              "3           3  83150.513  439662.685 -1709       1      2        248   \n",
              "4           4  83150.298  439660.188 -1690       1      2        447   \n",
              "\n",
              "   latitude  longtitude  \n",
              "0  4.342285   51.940770  \n",
              "1  4.342286   51.940772  \n",
              "2  4.342286   51.940771  \n",
              "3  4.342287   51.940773  \n",
              "4  4.342285   51.940750  "
            ],
            "text/html": [
              "\n",
              "  <div id=\"df-1502753d-ec7a-4fdd-ae1c-6e1ed23b4e2c\">\n",
              "    <div class=\"colab-df-container\">\n",
              "      <div>\n",
              "<style scoped>\n",
              "    .dataframe tbody tr th:only-of-type {\n",
              "        vertical-align: middle;\n",
              "    }\n",
              "\n",
              "    .dataframe tbody tr th {\n",
              "        vertical-align: top;\n",
              "    }\n",
              "\n",
              "    .dataframe thead th {\n",
              "        text-align: right;\n",
              "    }\n",
              "</style>\n",
              "<table border=\"1\" class=\"dataframe\">\n",
              "  <thead>\n",
              "    <tr style=\"text-align: right;\">\n",
              "      <th></th>\n",
              "      <th>Unnamed: 0</th>\n",
              "      <th>long</th>\n",
              "      <th>lat</th>\n",
              "      <th>elev</th>\n",
              "      <th>rt_num</th>\n",
              "      <th>class</th>\n",
              "      <th>intensity</th>\n",
              "      <th>latitude</th>\n",
              "      <th>longtitude</th>\n",
              "    </tr>\n",
              "  </thead>\n",
              "  <tbody>\n",
              "    <tr>\n",
              "      <th>0</th>\n",
              "      <td>0</td>\n",
              "      <td>83150.336</td>\n",
              "      <td>439662.362</td>\n",
              "      <td>313</td>\n",
              "      <td>1</td>\n",
              "      <td>1</td>\n",
              "      <td>141</td>\n",
              "      <td>4.342285</td>\n",
              "      <td>51.940770</td>\n",
              "    </tr>\n",
              "    <tr>\n",
              "      <th>1</th>\n",
              "      <td>1</td>\n",
              "      <td>83150.412</td>\n",
              "      <td>439662.657</td>\n",
              "      <td>-39</td>\n",
              "      <td>1</td>\n",
              "      <td>1</td>\n",
              "      <td>126</td>\n",
              "      <td>4.342286</td>\n",
              "      <td>51.940772</td>\n",
              "    </tr>\n",
              "    <tr>\n",
              "      <th>2</th>\n",
              "      <td>2</td>\n",
              "      <td>83150.429</td>\n",
              "      <td>439662.496</td>\n",
              "      <td>-883</td>\n",
              "      <td>2</td>\n",
              "      <td>1</td>\n",
              "      <td>13</td>\n",
              "      <td>4.342286</td>\n",
              "      <td>51.940771</td>\n",
              "    </tr>\n",
              "    <tr>\n",
              "      <th>3</th>\n",
              "      <td>3</td>\n",
              "      <td>83150.513</td>\n",
              "      <td>439662.685</td>\n",
              "      <td>-1709</td>\n",
              "      <td>1</td>\n",
              "      <td>2</td>\n",
              "      <td>248</td>\n",
              "      <td>4.342287</td>\n",
              "      <td>51.940773</td>\n",
              "    </tr>\n",
              "    <tr>\n",
              "      <th>4</th>\n",
              "      <td>4</td>\n",
              "      <td>83150.298</td>\n",
              "      <td>439660.188</td>\n",
              "      <td>-1690</td>\n",
              "      <td>1</td>\n",
              "      <td>2</td>\n",
              "      <td>447</td>\n",
              "      <td>4.342285</td>\n",
              "      <td>51.940750</td>\n",
              "    </tr>\n",
              "  </tbody>\n",
              "</table>\n",
              "</div>\n",
              "      <button class=\"colab-df-convert\" onclick=\"convertToInteractive('df-1502753d-ec7a-4fdd-ae1c-6e1ed23b4e2c')\"\n",
              "              title=\"Convert this dataframe to an interactive table.\"\n",
              "              style=\"display:none;\">\n",
              "        \n",
              "  <svg xmlns=\"http://www.w3.org/2000/svg\" height=\"24px\"viewBox=\"0 0 24 24\"\n",
              "       width=\"24px\">\n",
              "    <path d=\"M0 0h24v24H0V0z\" fill=\"none\"/>\n",
              "    <path d=\"M18.56 5.44l.94 2.06.94-2.06 2.06-.94-2.06-.94-.94-2.06-.94 2.06-2.06.94zm-11 1L8.5 8.5l.94-2.06 2.06-.94-2.06-.94L8.5 2.5l-.94 2.06-2.06.94zm10 10l.94 2.06.94-2.06 2.06-.94-2.06-.94-.94-2.06-.94 2.06-2.06.94z\"/><path d=\"M17.41 7.96l-1.37-1.37c-.4-.4-.92-.59-1.43-.59-.52 0-1.04.2-1.43.59L10.3 9.45l-7.72 7.72c-.78.78-.78 2.05 0 2.83L4 21.41c.39.39.9.59 1.41.59.51 0 1.02-.2 1.41-.59l7.78-7.78 2.81-2.81c.8-.78.8-2.07 0-2.86zM5.41 20L4 18.59l7.72-7.72 1.47 1.35L5.41 20z\"/>\n",
              "  </svg>\n",
              "      </button>\n",
              "      \n",
              "  <style>\n",
              "    .colab-df-container {\n",
              "      display:flex;\n",
              "      flex-wrap:wrap;\n",
              "      gap: 12px;\n",
              "    }\n",
              "\n",
              "    .colab-df-convert {\n",
              "      background-color: #E8F0FE;\n",
              "      border: none;\n",
              "      border-radius: 50%;\n",
              "      cursor: pointer;\n",
              "      display: none;\n",
              "      fill: #1967D2;\n",
              "      height: 32px;\n",
              "      padding: 0 0 0 0;\n",
              "      width: 32px;\n",
              "    }\n",
              "\n",
              "    .colab-df-convert:hover {\n",
              "      background-color: #E2EBFA;\n",
              "      box-shadow: 0px 1px 2px rgba(60, 64, 67, 0.3), 0px 1px 3px 1px rgba(60, 64, 67, 0.15);\n",
              "      fill: #174EA6;\n",
              "    }\n",
              "\n",
              "    [theme=dark] .colab-df-convert {\n",
              "      background-color: #3B4455;\n",
              "      fill: #D2E3FC;\n",
              "    }\n",
              "\n",
              "    [theme=dark] .colab-df-convert:hover {\n",
              "      background-color: #434B5C;\n",
              "      box-shadow: 0px 1px 3px 1px rgba(0, 0, 0, 0.15);\n",
              "      filter: drop-shadow(0px 1px 2px rgba(0, 0, 0, 0.3));\n",
              "      fill: #FFFFFF;\n",
              "    }\n",
              "  </style>\n",
              "\n",
              "      <script>\n",
              "        const buttonEl =\n",
              "          document.querySelector('#df-1502753d-ec7a-4fdd-ae1c-6e1ed23b4e2c button.colab-df-convert');\n",
              "        buttonEl.style.display =\n",
              "          google.colab.kernel.accessAllowed ? 'block' : 'none';\n",
              "\n",
              "        async function convertToInteractive(key) {\n",
              "          const element = document.querySelector('#df-1502753d-ec7a-4fdd-ae1c-6e1ed23b4e2c');\n",
              "          const dataTable =\n",
              "            await google.colab.kernel.invokeFunction('convertToInteractive',\n",
              "                                                     [key], {});\n",
              "          if (!dataTable) return;\n",
              "\n",
              "          const docLinkHtml = 'Like what you see? Visit the ' +\n",
              "            '<a target=\"_blank\" href=https://colab.research.google.com/notebooks/data_table.ipynb>data table notebook</a>'\n",
              "            + ' to learn more about interactive tables.';\n",
              "          element.innerHTML = '';\n",
              "          dataTable['output_type'] = 'display_data';\n",
              "          await google.colab.output.renderOutput(dataTable, element);\n",
              "          const docLink = document.createElement('div');\n",
              "          docLink.innerHTML = docLinkHtml;\n",
              "          element.appendChild(docLink);\n",
              "        }\n",
              "      </script>\n",
              "    </div>\n",
              "  </div>\n",
              "  "
            ]
          },
          "metadata": {},
          "execution_count": 3
        }
      ],
      "source": [
        "# Loading data as a dataframe\n",
        "\n",
        "#data = pd.read_csv(\"/content/drive/MyDrive/IIT Bombay/CS 725 Project/lidar_data_classification.csv\")\n",
        "data = pd.read_csv(\"/Dataset/classification.csv\")\n",
        "data.head()"
      ]
    },
    {
      "cell_type": "code",
      "execution_count": null,
      "id": "33313c7e",
      "metadata": {
        "id": "33313c7e"
      },
      "outputs": [],
      "source": [
        "# Selecting features and target from the dataframe\n",
        "\n",
        "X = data[['elev', 'rt_num', 'intensity', 'latitude', 'longtitude']]\n",
        "Y = data['class']"
      ]
    },
    {
      "cell_type": "code",
      "execution_count": null,
      "id": "0a11ae12",
      "metadata": {
        "id": "0a11ae12"
      },
      "outputs": [],
      "source": [
        "# Splitting test and train\n",
        "\n",
        "x_train, x_test, y_train, y_test = train_test_split(X, Y, test_size = 0.9, random_state=42)"
      ]
    },
    {
      "cell_type": "markdown",
      "id": "5da0a5a2",
      "metadata": {
        "id": "5da0a5a2"
      },
      "source": [
        "## SVM"
      ]
    },
    {
      "cell_type": "code",
      "execution_count": null,
      "id": "62623cc6",
      "metadata": {
        "id": "62623cc6",
        "colab": {
          "base_uri": "https://localhost:8080/"
        },
        "outputId": "a63a059f-0e2e-439e-bc67-27a1cfdc0e49"
      },
      "outputs": [
        {
          "output_type": "execute_result",
          "data": {
            "text/plain": [
              "SVC()"
            ]
          },
          "metadata": {},
          "execution_count": 19
        }
      ],
      "source": [
        "# SVM model\n",
        "\n",
        "model1 = SVC()\n",
        "model1.fit(x_train, y_train)"
      ]
    },
    {
      "cell_type": "code",
      "source": [
        "# Model testing\n",
        "\n",
        "model1.score(x_test, y_test)\n",
        "predictions = model1.predict(x_test)"
      ],
      "metadata": {
        "id": "q5ER1OCUbmpH"
      },
      "id": "q5ER1OCUbmpH",
      "execution_count": null,
      "outputs": []
    },
    {
      "cell_type": "code",
      "execution_count": null,
      "id": "612d3f7b",
      "metadata": {
        "id": "612d3f7b",
        "colab": {
          "base_uri": "https://localhost:8080/"
        },
        "outputId": "bb37fa18-2c4c-4c87-8b0e-ccdd9efd44f0"
      },
      "outputs": [
        {
          "output_type": "stream",
          "name": "stdout",
          "text": [
            "[[374985  27220   6247     25]\n",
            " [  3666 414142      0    566]\n",
            " [ 16814      0  49058      0]\n",
            " [     0   1507      0   5770]]\n"
          ]
        }
      ],
      "source": [
        "# Confusion Matrix\n",
        "\n",
        "CM_svm=confusion_matrix(y_test, predictions)\n",
        "print(CM_svm)"
      ]
    },
    {
      "cell_type": "code",
      "execution_count": null,
      "id": "5a40b572",
      "metadata": {
        "id": "5a40b572",
        "colab": {
          "base_uri": "https://localhost:8080/"
        },
        "outputId": "8dfe9901-d41c-40d0-9bb6-d804f632ba98"
      },
      "outputs": [
        {
          "output_type": "stream",
          "name": "stdout",
          "text": [
            "              precision    recall  f1-score   support\n",
            "\n",
            "           1       0.95      0.92      0.93    408477\n",
            "           2       0.94      0.99      0.96    418374\n",
            "           6       0.89      0.74      0.81     65872\n",
            "           9       0.91      0.79      0.85      7277\n",
            "\n",
            "    accuracy                           0.94    900000\n",
            "   macro avg       0.92      0.86      0.89    900000\n",
            "weighted avg       0.94      0.94      0.94    900000\n",
            "\n"
          ]
        }
      ],
      "source": [
        "# Accuracy\n",
        "\n",
        "acc = accuracy_score(y_test, predictions)\n",
        "print(classification_report(y_test, predictions))"
      ]
    },
    {
      "cell_type": "markdown",
      "id": "9e5bcd19",
      "metadata": {
        "id": "9e5bcd19"
      },
      "source": [
        "## Decision Tree"
      ]
    },
    {
      "cell_type": "code",
      "execution_count": null,
      "id": "7dee3ea6",
      "metadata": {
        "id": "7dee3ea6",
        "colab": {
          "base_uri": "https://localhost:8080/"
        },
        "outputId": "1114012c-770d-4830-ecf9-c73b4cee4622"
      },
      "outputs": [
        {
          "output_type": "execute_result",
          "data": {
            "text/plain": [
              "DecisionTreeClassifier()"
            ]
          },
          "metadata": {},
          "execution_count": 6
        }
      ],
      "source": [
        "# Decision Tree model\n",
        "\n",
        "model2 = DecisionTreeClassifier()\n",
        "model2.fit(x_train, y_train)"
      ]
    },
    {
      "cell_type": "code",
      "source": [
        "# Model testing\n",
        "\n",
        "model2.score(x_test, y_test)\n",
        "predictions = model2.predict(x_test)"
      ],
      "metadata": {
        "id": "-CH3yLZ2bODX"
      },
      "id": "-CH3yLZ2bODX",
      "execution_count": null,
      "outputs": []
    },
    {
      "cell_type": "code",
      "execution_count": null,
      "id": "f6a073f7",
      "metadata": {
        "id": "f6a073f7",
        "colab": {
          "base_uri": "https://localhost:8080/"
        },
        "outputId": "acd4a113-1e94-40b9-902d-881a6cb12b2a"
      },
      "outputs": [
        {
          "output_type": "stream",
          "name": "stdout",
          "text": [
            "[[393545  10069   4837     26]\n",
            " [ 10020 407533      0    821]\n",
            " [  4716      0  61156      0]\n",
            " [    32    632      0   6613]]\n"
          ]
        }
      ],
      "source": [
        "# Confusion Matrix\n",
        "\n",
        "CM_dt=confusion_matrix(y_test, predictions)\n",
        "print(CM_dt)"
      ]
    },
    {
      "cell_type": "code",
      "execution_count": null,
      "id": "2b015a77",
      "metadata": {
        "id": "2b015a77",
        "colab": {
          "base_uri": "https://localhost:8080/"
        },
        "outputId": "4df2dc96-b4c7-4cf9-b59e-06c4b04d8455"
      },
      "outputs": [
        {
          "output_type": "stream",
          "name": "stdout",
          "text": [
            "              precision    recall  f1-score   support\n",
            "\n",
            "           1       0.96      0.96      0.96    408477\n",
            "           2       0.97      0.97      0.97    418374\n",
            "           6       0.93      0.93      0.93     65872\n",
            "           9       0.89      0.91      0.90      7277\n",
            "\n",
            "    accuracy                           0.97    900000\n",
            "   macro avg       0.94      0.94      0.94    900000\n",
            "weighted avg       0.97      0.97      0.97    900000\n",
            "\n"
          ]
        }
      ],
      "source": [
        "# Accuracy\n",
        "\n",
        "acc = accuracy_score(y_test, predictions)\n",
        "print(classification_report(y_test, predictions))"
      ]
    },
    {
      "cell_type": "markdown",
      "id": "6b2b6bfa",
      "metadata": {
        "id": "6b2b6bfa"
      },
      "source": [
        "## Random Forest"
      ]
    },
    {
      "cell_type": "code",
      "execution_count": null,
      "id": "f1a3c643",
      "metadata": {
        "id": "f1a3c643",
        "colab": {
          "base_uri": "https://localhost:8080/"
        },
        "outputId": "c6dbd9d5-7201-4313-f9b2-fcd30066d152"
      },
      "outputs": [
        {
          "output_type": "execute_result",
          "data": {
            "text/plain": [
              "RandomForestClassifier()"
            ]
          },
          "metadata": {},
          "execution_count": 10
        }
      ],
      "source": [
        "# Random Forest model\n",
        "\n",
        "model3 = RandomForestClassifier()\n",
        "model3.fit(x_train, y_train)"
      ]
    },
    {
      "cell_type": "code",
      "execution_count": null,
      "id": "22f639f7",
      "metadata": {
        "id": "22f639f7"
      },
      "outputs": [],
      "source": [
        "# Model testing\n",
        "\n",
        "model3.score(x_test, y_test)\n",
        "predictions = model3.predict(x_test)"
      ]
    },
    {
      "cell_type": "code",
      "execution_count": null,
      "id": "ec9bc508",
      "metadata": {
        "id": "ec9bc508",
        "colab": {
          "base_uri": "https://localhost:8080/"
        },
        "outputId": "9f500d6a-633c-4973-dcaa-31710b515df8"
      },
      "outputs": [
        {
          "output_type": "execute_result",
          "data": {
            "text/plain": [
              "array([[394583,  11644,   2225,     25],\n",
              "       [  1574, 416118,      0,    682],\n",
              "       [  3845,      0,  62027,      0],\n",
              "       [     3,    516,      0,   6758]])"
            ]
          },
          "metadata": {},
          "execution_count": 12
        }
      ],
      "source": [
        "# Confusion Matrix\n",
        "\n",
        "CM_rf = confusion_matrix(y_test, predictions)\n",
        "CM_rf"
      ]
    },
    {
      "cell_type": "code",
      "execution_count": null,
      "id": "eccab765",
      "metadata": {
        "id": "eccab765",
        "colab": {
          "base_uri": "https://localhost:8080/"
        },
        "outputId": "b79d7f86-b857-4695-d0a0-d987a47231bb"
      },
      "outputs": [
        {
          "output_type": "stream",
          "name": "stdout",
          "text": [
            "              precision    recall  f1-score   support\n",
            "\n",
            "           1       0.99      0.97      0.98    408477\n",
            "           2       0.97      0.99      0.98    418374\n",
            "           6       0.97      0.94      0.95     65872\n",
            "           9       0.91      0.93      0.92      7277\n",
            "\n",
            "    accuracy                           0.98    900000\n",
            "   macro avg       0.96      0.96      0.96    900000\n",
            "weighted avg       0.98      0.98      0.98    900000\n",
            "\n"
          ]
        }
      ],
      "source": [
        "# Accuracy\n",
        "\n",
        "acc = accuracy_score(y_test, predictions)\n",
        "print(classification_report(y_test, predictions))"
      ]
    },
    {
      "cell_type": "markdown",
      "id": "45b3fcb1",
      "metadata": {
        "id": "45b3fcb1"
      },
      "source": [
        "## Naive Bayes"
      ]
    },
    {
      "cell_type": "code",
      "execution_count": null,
      "id": "3e744e68",
      "metadata": {
        "id": "3e744e68",
        "colab": {
          "base_uri": "https://localhost:8080/"
        },
        "outputId": "eec4b2d8-1efc-43b0-e887-f14fbbeea9d7"
      },
      "outputs": [
        {
          "output_type": "execute_result",
          "data": {
            "text/plain": [
              "GaussianNB()"
            ]
          },
          "metadata": {},
          "execution_count": 14
        }
      ],
      "source": [
        "# Naive Bayes model\n",
        "\n",
        "model4 = GaussianNB()\n",
        "model4.fit(x_train, y_train)"
      ]
    },
    {
      "cell_type": "code",
      "execution_count": null,
      "id": "3b94212e",
      "metadata": {
        "id": "3b94212e"
      },
      "outputs": [],
      "source": [
        "# Model testing\n",
        "\n",
        "model4.score(x_test, y_test)\n",
        "predictions = model4.predict(x_test)"
      ]
    },
    {
      "cell_type": "code",
      "execution_count": null,
      "id": "a041330a",
      "metadata": {
        "id": "a041330a",
        "colab": {
          "base_uri": "https://localhost:8080/"
        },
        "outputId": "742ce9c2-0387-4e6e-9756-b87aed595700"
      },
      "outputs": [
        {
          "output_type": "stream",
          "name": "stdout",
          "text": [
            "[[279600  33332  95495     50]\n",
            " [  3781 413982      0    611]\n",
            " [  4460      0  61412      0]\n",
            " [   102   2180      0   4995]]\n"
          ]
        }
      ],
      "source": [
        "# Confusion Matrix\n",
        "\n",
        "CM_nb = confusion_matrix(y_test, predictions)\n",
        "print(CM_nb)"
      ]
    },
    {
      "cell_type": "code",
      "execution_count": null,
      "id": "eba485f2",
      "metadata": {
        "id": "eba485f2",
        "colab": {
          "base_uri": "https://localhost:8080/"
        },
        "outputId": "62eca86e-fbd1-4c9f-ff55-6ff5a7870ae2"
      },
      "outputs": [
        {
          "output_type": "stream",
          "name": "stdout",
          "text": [
            "              precision    recall  f1-score   support\n",
            "\n",
            "           1       0.97      0.68      0.80    408477\n",
            "           2       0.92      0.99      0.95    418374\n",
            "           6       0.39      0.93      0.55     65872\n",
            "           9       0.88      0.69      0.77      7277\n",
            "\n",
            "    accuracy                           0.84    900000\n",
            "   macro avg       0.79      0.82      0.77    900000\n",
            "weighted avg       0.90      0.84      0.85    900000\n",
            "\n"
          ]
        }
      ],
      "source": [
        "# Accuracy\n",
        "\n",
        "acc = accuracy_score(y_test, predictions)\n",
        "print(classification_report(y_test, predictions))"
      ]
    }
  ],
  "metadata": {
    "kernelspec": {
      "display_name": "Python 3 (ipykernel)",
      "language": "python",
      "name": "python3"
    },
    "language_info": {
      "codemirror_mode": {
        "name": "ipython",
        "version": 3
      },
      "file_extension": ".py",
      "mimetype": "text/x-python",
      "name": "python",
      "nbconvert_exporter": "python",
      "pygments_lexer": "ipython3",
      "version": "3.10.6"
    },
    "colab": {
      "provenance": []
    }
  },
  "nbformat": 4,
  "nbformat_minor": 5
}